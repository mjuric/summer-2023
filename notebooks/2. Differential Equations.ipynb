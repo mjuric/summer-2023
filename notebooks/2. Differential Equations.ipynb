{
 "cells": [
  {
   "cell_type": "markdown",
   "id": "13dc3472",
   "metadata": {},
   "source": [
    "# Differential equations"
   ]
  },
  {
   "cell_type": "markdown",
   "id": "f7ff1213",
   "metadata": {},
   "source": [
    "## Simple equations\n",
    "\n",
    "You're probably familiar with [algebraic equations](https://en.wikipedia.org/wiki/Algebraic_equation). These take the form of:\n",
    "\n",
    "$$ x^2 + 2x = 1 $$\n",
    "\n",
    "or perhaps maybe something more complicated like this:\n",
    "\n",
    "$$ \\cos(x) + x = 10 $$\n",
    "\n",
    "What's common among them is that there's one variable, and the solution is the value -- a number -- that that variable should assume for the equation to be true.\n",
    "\n",
    "Exercise: solve the above equations."
   ]
  },
  {
   "cell_type": "markdown",
   "id": "986dd9f4",
   "metadata": {},
   "source": [
    "## Systems of equations\n",
    "\n",
    "A simple extension is to having a *system of equations*, with multiple variables. Consider this pair of equations:\n",
    "\n",
    "$$ 2 x + y   = 7 $$\n",
    "$$ 3 x + 5 y = 8 $$\n",
    "\n",
    "With a little bit of algebraic manipulations, you can show (try it!) that only \n",
    "\n",
    "$$ x = 27/7 $$\n",
    "$$ y = -5/7 $$\n",
    "\n",
    "satisfy the above system."
   ]
  },
  {
   "cell_type": "markdown",
   "id": "871732e9",
   "metadata": {},
   "source": [
    "## Functional equations\n",
    "\n",
    "But then, you can have an equation where the unknown itself is not a number, but a *function*. These are called [functional equations](https://en.wikipedia.org/wiki/Functional_equation). Here is an example:\n",
    "\n",
    "$$ f(x+P)=f(x) $$\n",
    "\n",
    "The solution of this equation is *any function $f$* that when substituted into the above equation makes the equation hold true *for every value of $x$*. Let's try:\n",
    "\n",
    "$$ f(x) = \\cos\\left(\\frac{2 \\pi}{P} \\cdot x\\right) $$\n",
    "\n",
    "With that choice, we have:\n",
    "\n",
    "$$ f(x+P) = \\cos\\left(\\frac{2 \\pi}{P} \\cdot (x + P)\\right) = \\cos\\left(\\frac{2 \\pi}{P} \\cdot x + 2 \\pi\\right) = \n",
    "\\cos\\left(\\frac{2 \\pi}{P} \\cdot x\\right) = f(x) $$\n",
    "\n",
    "where the third equality follows because the cosine is periodic with period $2\\pi$. Therefore, this function is a solution of this functional equation. But, more broadly, *any* function that is periodic with period $P$ satisfies this functional equation. In fact, $ f(x+P)=f(x) $ is the *definition* of [periodic functions](https://en.wikipedia.org/wiki/Periodic_function).\n",
    "\n",
    "Take a look at the Wikipedia [functional equations](https://en.wikipedia.org/wiki/Functional_equation) page to see more examples of functional equations."
   ]
  },
  {
   "cell_type": "markdown",
   "id": "74bd6f8c",
   "metadata": {},
   "source": [
    "## Differential equations\n",
    "\n",
    "In the previous section, we've learned two important things: a) that there can be equations whose solutions are *functions*, and b) that the solutions to those equations can sometime be not just a single function, but a whole family of functions (e.g., periodic functions).\n",
    "\n",
    "We can now push this concept of functional equations further: not just allow simple expressions such as $ f(x+P)=f(x) $ or $ f(xy)=f(x)+f(y)$, but allow for derivatives as well. Let's start with the simplest example:\n",
    "\n",
    "$$ f'(x) = 0 $$\n",
    "\n",
    "This is an equation whose solution is any function $f(x)$ that, when differentiated, is equal to zero. After a bit of thinking about what we know about derivatives, it's easy to see that the only allowable solution is:\n",
    "\n",
    "$$ f(x) = constant $$\n",
    "\n",
    "where the *constant* can be any real number. This is because the rate of change of a constant is zero. Let's do another simple one:\n",
    "\n",
    "$$ f'(x) = 5 $$\n",
    "\n",
    "Exercise: can you find the solution for this equation?\n",
    "\n",
    "Multiple derivatives can also be involved. For example, let's look at:\n",
    "\n",
    "$$ f''(x) = 0 $$\n",
    "\n",
    "The solution of this equation is:\n",
    "\n",
    "$$ f(x) = A x + B $$\n",
    "\n",
    "where $A$ and $B$ can be *any* real numbers. You can convince yourself of this by simply differentiating it twice.\n",
    "\n",
    "But the really interesting equations are the ones that involve both the derivatives and the function itself (or its variables). For example, can you find a solution for:\n",
    "\n",
    "$$ f'(x) = x $$\n",
    "\n",
    "? Let's think about it a bit -- this is a function, that when differentiated, must return $x$. Knowing how powers of $x$ are differentiated, we can see that it has to involved $x^2$ (as $ \\frac{d}{dx}x^2 = 2x $). But then the constant is wrong -- it's $2$ and we need $1$. So we should divide by two, giving us the solution:\n",
    "\n",
    "$$ f(x) = \\frac{1}{2} x^2 $$\n",
    "\n",
    "OK, that was easy. But how about the following equation:\n",
    "\n",
    "$$ f''(t) = - K \\cdot f(t) $$\n",
    "\n",
    "? This is a function that, when differentiated *twice* returns itself multiplied by some constant $K$ (which can be any number). What could be the solution? And how do we find it?\n",
    "\n",
    "In general, [there is no universal prescription](https://en.wikipedia.org/wiki/Differential_equation#Existence_of_solutions) for solving differential equations. For certain types of equations, there are algorithms that lead to the solution (see the link in the previous sentence). But for many others, the solutions were found and tabulated by (educated) guesses and (clever) trial and error done through (quite literally) centuries. And for even more others, the solution is not known, or a closed form solution does not even exist (just like with integrals). We solve those cases numerically (just like with integration; more on that later).\n",
    "\n",
    "For our equation above, the solution is (well) known. Try inserting the following:\n",
    "\n",
    "$$ f(t) = A \\cdot \\cos\\left(\\sqrt{K} t + \\phi\\right) $$\n",
    "\n",
    "where $A$ and $\\phi$ can be any real number, and show that this satisfies $ f''(t) = - K \\cdot f(t) $.\n",
    "\n",
    "Congratulations! -- you've solved your first second-order differential equation (\"second-order\" means that there was a second derivative of the function present in the equation)."
   ]
  },
  {
   "cell_type": "markdown",
   "id": "a4774321",
   "metadata": {},
   "source": [
    "### Hooke's Law\n",
    "\n",
    "Why did I choose\n",
    "\n",
    "$$ f''(t) = - K \\cdot f(t) $$\n",
    "\n",
    "as the D.E. (differential equation) to play with? **Because this is one of the most important DEs in all of physics (and science!)**.\n",
    "\n",
    "Let's give our $f(t)$ a physical meaning. Imagine it is the *position of a body at time t* -- or what we would ordinarily call $x$. Then, we can write it as:\n",
    "\n",
    "$$ x''(t) = -K x $$\n",
    "\n",
    "or, using the physics convention that derivatives wrt time are denoted with dots:\n",
    "\n",
    "$$ \\ddot x = -K x $$\n",
    "\n",
    "And what is $\\ddot x$? It is the acceleration of the body. If we multiply both sides with the mass of the body, $m$, we'll get $m \\ddot x$ on the left-hand side -- which is just force (second Newton's law!), so the equation becomes:\n",
    "\n",
    "$$ F = m \\ddot x = -m K x = -k x $$\n",
    "\n",
    "where we've defined a new constant $k \\equiv m \\cdot K$.\n",
    "\n",
    "So this equation is $F = -k x$. It describes a physical system where the force on the body is proportional to the distance of the body from the origin. If $x = 0$, the body feels no force. The more the body moves either to the left or the right of $x = 0$, it starts feeling a force proportional to its offset ($x$) that's pushing it back towards the origin. What is this system?\n",
    "\n",
    "It's a spring, and the equation above is known as the [Hooke's law](https://en.wikipedia.org/wiki/Hooke%27s_law). The constant $k$ is the strength of the spring -- the larger it is, the more force will the spring exert on the object it tugs on. And the solution of this differential equation:\n",
    "\n",
    "$$ x(t) = A \\cdot \\cos\\left(\\sqrt{\\frac{k}{m}} t + \\phi\\right) $$\n",
    "\n",
    "gives us the position of the object tied to a string as a function of time! If we plot the movie of this solution, it will show us an object that *oscilaltes* -- this is why this D.E. is known as **the [harmonic oscillator](https://en.wikipedia.org/wiki/Harmonic_oscillator) equation**."
   ]
  },
  {
   "attachments": {
    "image.png": {
     "image/png": "[encoded data removed]"
    }
   },
   "cell_type": "markdown",
   "id": "1b3149ea",
   "metadata": {},
   "source": [
    "![image.png](attachment:image.png)\n",
    "\n",
    "(click [here](https://upload.wikimedia.org/wikipedia/commons/0/07/Easy_harmonic_oscillator.gif) to see the animated version)."
   ]
  },
  {
   "cell_type": "markdown",
   "id": "7d2297f7",
   "metadata": {},
   "source": [
    "## Interpreting the solution"
   ]
  },
  {
   "cell_type": "markdown",
   "id": "b7cf3880",
   "metadata": {},
   "source": [
    "### Frequency and period"
   ]
  },
  {
   "cell_type": "markdown",
   "id": "7d6e2a34",
   "metadata": {},
   "source": [
    "Let's visualize this result as a $x$ vs $t$ plot:"
   ]
  },
  {
   "cell_type": "code",
   "execution_count": 1,
   "id": "fa448a39",
   "metadata": {},
   "outputs": [],
   "source": [
    "import matplotlib.pyplot as plt\n",
    "import numpy as np"
   ]
  },
  {
   "cell_type": "code",
   "execution_count": 2,
   "id": "53a0ae25",
   "metadata": {},
   "outputs": [
    {
     "data": {
      "image/png": "[encoded data removed]",
      "text/plain": [
       "<Figure size 432x288 with 1 Axes>"
      ]
     },
     "metadata": {
      "needs_background": "light"
     },
     "output_type": "display_data"
    }
   ],
   "source": [
    "k = 2\n",
    "m = 1\n",
    "\n",
    "phi = 0\n",
    "A = 1\n",
    "\n",
    "t = np.linspace(0, 12, 1000)\n",
    "x = A*np.cos(np.sqrt(k/m)*t + phi)\n",
    "\n",
    "plt.plot(t, x)\n",
    "plt.xlabel(\"Time (seconds)\")\n",
    "plt.ylabel(\"Position (m)\");"
   ]
  },
  {
   "cell_type": "markdown",
   "id": "e31455b5",
   "metadata": {},
   "source": [
    "This is just another way to visualize the spring animation above. It shows that the body starts at $x = 1$, it oscillates all the way down to $x = -1$, then returns to $x = 1$ and the oscillation repeats forever..."
   ]
  },
  {
   "cell_type": "markdown",
   "id": "094b6628",
   "metadata": {},
   "source": [
    "Now let's play with the parameters a bit to get a feel for what they do:"
   ]
  },
  {
   "cell_type": "code",
   "execution_count": 3,
   "id": "c1ca8d2d",
   "metadata": {},
   "outputs": [
    {
     "data": {
      "application/vnd.jupyter.widget-view+json": {
       "model_id": "bafc110b4563425e946a4346bf1463e4",
       "version_major": 2,
       "version_minor": 0
      },
      "text/plain": [
       "interactive(children=(FloatSlider(value=2.0, description='k', max=5.0, min=0.1), FloatSlider(value=1.0, descri…"
      ]
     },
     "metadata": {},
     "output_type": "display_data"
    }
   ],
   "source": [
    "from ipywidgets import interact\n",
    "\n",
    "def x(k=2, m=1):\n",
    "    phi = 0\n",
    "    A   = 1\n",
    "    t = np.linspace(0, 12, 1000)\n",
    "    x = A*np.cos(np.sqrt(k/m)*t + phi)\n",
    "\n",
    "    plt.plot(t, x)\n",
    "    plt.xlabel(\"Time (seconds)\")\n",
    "    plt.ylabel(\"Position (m)\");\n",
    "    plt.ylim(-3, 3)\n",
    "    \n",
    "interact(x, k=(0.1, 5, 0.1), m=(0.1, 5, .1));"
   ]
  },
  {
   "cell_type": "markdown",
   "id": "18304839",
   "metadata": {},
   "source": [
    "Note: To see the above plot you need to download and run this cell yourself (e.g. it won't display on GitHub). You'll see the plot and two sliders above it, each allowing you to change the value of various parameters and get a feel for what they do.\n",
    "\n",
    "Let's start with $k$. As we mentioned, $k$ is the strenght of the spring. It is expressed in Newtons per meter -- numerically it's how many newtons of force your hand will feel if you extend the spring by 1 meter. If you increase $k$, you'll see that the oscillation speed also goes up (i.e., in the same time interval, you'll have more peaks/valleys in the plot above). Intuitively, this is because larger $k$ means the spring is stronger, so it pulls the mass more quickly towards the equilibrium point. Mathematically, you see this in the differential equation itself: $F = -k x$ -- if you double the $k$, the force doubles.\n",
    "\n",
    "What about $m$, the mass? The mass acts in the *opposite* direction. You increase the mass, the oscillations become slower. This is also easy to understand: if the same force acts on a body that's more massive, it will cause less acceleration (remember Newton's 2nd law: $F = m \\cdot a$).\n",
    "\n",
    "So we see how the spring strenght and the body mass both affect the speed of oscillations -- i.e., the *frequency*. What exactly is the frequency? It is how many full periods of oscillations -- sometime called *cycles* -- the oscillator completes in a unit interval of time (e.g., in one second). Frequency is usually denoted by the Greek letter $\\nu$, and for a cosine it enters the equation as follows:\n",
    "\n",
    "$$ f(t) = \\cos(2 \\pi \\nu \\cdot t) $$\n",
    "\n",
    "Why? Exercise: verify by plotting that if you set $\\nu = 1$, the graph of $f(t)$ makes a full period by the time $t$ reaches one -- i.e., once per second. Then set $\\nu = 2$, and notice that it now completes two full periods by the time $t=1$ -- i.e., the frequency is twice per second, etc.\n",
    "\n",
    "The inverse of the frequency is the *period*. For example, if a body completes two full oscillations in one second, then it's period is half a second. Mathematically:\n",
    "\n",
    "$$ P = \\frac{1}{\\nu} $$\n",
    "\n",
    "Depending on the situation, sometimes it's easier/more natural to think in terms of frequency, and sometime it's easier to think about periods (exercise: think about situations in everyday life where you're used to using frequencies, vs. others where you use periods).\n",
    "\n",
    "To develop more intuition about frequencies and periods, look at the material [here](https://www.mathsisfun.com/algebra/amplitude-period-frequency-phase-shift.html)."
   ]
  },
  {
   "cell_type": "markdown",
   "id": "d49616e4",
   "metadata": {},
   "source": [
    "So now let's go back to our solution for $x$ and figure out quantitatively what is the frequency for given $k$ and $m$. As a reminder, the position of our oscillator is given by:\n",
    "\n",
    "$$ x(t) = A \\cdot \\cos\\left(\\sqrt{\\frac{k}{m}} t + \\phi\\right) $$\n",
    "\n",
    "We look at the factor that multiplies $t$. By comparison with the equation from the previous section, the frequency must be:\n",
    "\n",
    "$$ 2 \\pi \\nu = \\sqrt{\\frac{k}{m}} $$\n",
    "\n",
    "or, after some rearranging:\n",
    "\n",
    "$$ \\nu = \\frac{1}{2 \\pi}\\sqrt{\\frac{k}{m}} $$\n",
    "\n",
    "This is consistent with our experiments above, about changing the spring constant and mass -- the frequency depends on $k$ and $m$, in an inverse way. It also tells us the quantitative relationship -- if we want to make the oscillator oscillate twice as fast, we need to *quadruple* the oscillator strenght (or reduce the mass by a factor of four).\n",
    "\n",
    "The period is given by:\n",
    "\n",
    "$$ P = \\frac{1}{\\nu} = {2 \\pi}\\sqrt{\\frac{m}{k}} $$\n",
    "\n",
    "You can verify this using the sliders above -- set $k = m$, and note how the period (one full oscillation) occurs in $\\sim 6.28 = 2\\pi$ seconds, exactly what the equation above predicts."
   ]
  },
  {
   "cell_type": "markdown",
   "id": "5cafb442",
   "metadata": {},
   "source": [
    "Side note: Notice above how when dealing with frequencies and sines and cosines, there are factors of $2 \\pi$ that pop frequently? Two things about this.\n",
    "\n",
    "* One, it's annoying and error prone. You're more likely than not to accidentally miss that $2 \\pi$ at some point. But more importantly...\n",
    "\n",
    "* Whenever you see something like that, it's the math telling you that you're not measuring in the \"natural\" units for the problem. We've defined the frequency as \"the number of cycles -- of full circles -- per unit time\". But a full circle for the cosine is $2 \\pi$ radians, so a more natural measure would be \"the number of radians per unit time\" -- i.e., the angular velocity. This is exactly $2 \\pi \\nu$ -- the combo in which the frequency enters all trig functions. Because of this, it's common to define the [angular frequency](https://en.wikipedia.org/wiki/Angular_frequency), commonly denoted by the Greek letter $\\omega$, defined as:\n",
    "\n",
    "$$ \\omega = 2 \\pi \\nu $$\n",
    "\n",
    ". With this definition, $\\omega = \\sqrt \\frac{k}{m}$ and our equation can be written in a simpler form:\n",
    "\n",
    "$$ x(t) = A \\cdot \\cos\\left(\\omega t + \\phi\\right) $$.\n",
    "\n",
    "In the rest of this notebook we won't make much use of this notation, but we will later (and many other texts on this topic use this notation)."
   ]
  },
  {
   "cell_type": "markdown",
   "id": "44641e65",
   "metadata": {},
   "source": [
    "### Amplitude and Phase"
   ]
  },
  {
   "cell_type": "markdown",
   "id": "747f374e",
   "metadata": {},
   "source": [
    "The experiment above gave us an idea for the meaning of $k$ and $m$ for our harmonic oscillator. But what are $A$ and $\\phi$?\n",
    "\n",
    "Let's experiment:"
   ]
  },
  {
   "cell_type": "code",
   "execution_count": 4,
   "id": "7780ca36",
   "metadata": {},
   "outputs": [
    {
     "data": {
      "application/vnd.jupyter.widget-view+json": {
       "model_id": "0df81b6866e94f87b5e78ea30323693d",
       "version_major": 2,
       "version_minor": 0
      },
      "text/plain": [
       "interactive(children=(FloatSlider(value=2.0, description='k', max=5.0, min=0.1), FloatSlider(value=1.0, descri…"
      ]
     },
     "metadata": {},
     "output_type": "display_data"
    }
   ],
   "source": [
    "from ipywidgets import interact\n",
    "\n",
    "def x(k=2, m=1, phi=0, A=1):\n",
    "    t = np.linspace(0, 12, 1000)\n",
    "    x = A*np.cos(np.sqrt(k/m)*t + phi)\n",
    "\n",
    "    plt.plot(t, x)\n",
    "    plt.xlabel(\"Time (seconds)\")\n",
    "    plt.ylabel(\"Position (m)\");\n",
    "    plt.ylim(-3, 3)\n",
    "    \n",
    "interact(x, k=(0.1, 5, 0.1), m=(0.1, 5, .1), phi=(0, 2*np.pi, np.pi/8), A=(0, 5, 0.1));"
   ]
  },
  {
   "cell_type": "markdown",
   "id": "51499383",
   "metadata": {},
   "source": [
    "Start by moving the slider for $A$ around. You'll quickly see that it controls the *amplitude* of oscillation -- i.e., how far the body moves from the equilibrium point. This is easy to see it in the equation itself:\n",
    "\n",
    "$$ x(t) = A \\cdot \\cos\\left(\\sqrt{\\frac{k}{m}} t + \\phi\\right) $$\n",
    "\n",
    "Note that the cosine, no matter what number put in the parentheses, cannot be greater than 1 or smaller than -1 (remember how cosine is defined!). And the $A$ multiplies the cosine. Therefore, the value of $A$ tells us the maximum (and minimum) excursion of the body. This is why we usually denote this quantity by the letter $A$ (as in **A**mplitude)."
   ]
  },
  {
   "cell_type": "markdown",
   "id": "18ccebad",
   "metadata": {},
   "source": [
    "What about $\\phi$? Moving the slider for $\\phi$, we see that it controls *where in the cycle the oscillator was at $t=0$*.\n",
    "\n",
    "For $\\phi=0$, the body was at the maximum excursion -- $x(t=0) = A$. (exercise: can you tell what was the *velocity* of the body at that point? Don't try to compute it, just look at the plot, remember that the velocity is the derivative of position, and also remember what is the graphical interpretation of derivatives).\n",
    "\n",
    "As you increase $\\phi$, the entire curve seems to shift by some amount. For $\\phi = \\pi/2$, the body is at $x=0$ at time $t=0$. As you continue increasing $\\phi$ it continues to shift until you hit $\\phi = 2\\pi$ when the curve looks exactly the same as for $\\phi = 0$. (exercise: this should not surprise you, as cosine is a periodic function, with period $P=2\\pi$).\n",
    "\n",
    "Exercise: how does the *velocity* of the body at $t=0$ changes as you vary $\\phi$? (no need to be quantitative, just observe -- using the graphical interpretation of a derivative -- what's happening."
   ]
  },
  {
   "cell_type": "markdown",
   "id": "88f00f73",
   "metadata": {},
   "source": [
    "### Initial conditions"
   ]
  },
  {
   "cell_type": "markdown",
   "id": "ff10b278",
   "metadata": {},
   "source": [
    "What did we learn? From the experiments above, we've seen that $\\phi$ has a connection with where the body was at $t=0$. Changing $\\phi$ also changes the velocity of the body at that time $t=0$. What is the meaning of this...?\n",
    "\n",
    "First, let's introduce some terminology: when doing experiments in physics it's customary to \"start the clock\" (e.g., start the stopwatch) at the beginning of the experiment. I.e., our $t$ doesn't refer to (say) \"$2$ p.m. on a Tuesday\", but to \"$t$ seconds since the experiment start\". So $t=0$ is commonly the time of the initiation of the experiment, and **the position and velocity of the body at $t=0$ are known as the *initial conditions***."
   ]
  },
  {
   "cell_type": "markdown",
   "id": "bac0dbb1",
   "metadata": {},
   "source": [
    "Physics is, at its core, the science of predicting the future. The way we know our theories work is by predicting, given the state of the experiment at $t=0$ -- its initial conditions -- what will the experiment look like at a later time $t>0$. Or in our case, given the initial *position* and *velocity* of a mass tied to a spring, where will it be at some later time $t>0$.\n",
    "\n",
    "So we need to *quantitatively* connect the variable $A$ and $\\phi$:\n",
    "\n",
    "$$ x(t) = A \\cdot \\cos\\left(\\sqrt{\\frac{k}{m}} t + \\phi\\right) $$\n",
    "\n",
    "to the initial conditions. The position at $t=0$, $x(t=0)$ is by convention usually denoted as $x_0$, and the initial velocity $\\dot x(t=0)$ also by convention usually denoted as $v_0$. Important: both of these are **known** -- i.e., they're actual numbers we know from the setup of the experimene (say, $x_0 = 0.42$m and $v_0 = 0.01 {\\rm m/s}$)."
   ]
  },
  {
   "cell_type": "markdown",
   "id": "475f3809",
   "metadata": {},
   "source": [
    "How do we do this? It's easier than it looks. Just insert $t=0$ in the equation above:\n",
    "\n",
    "$$ x(t=0) = x_0 = A \\cdot \\cos\\left(\\sqrt{\\frac{k}{m}} \\cdot 0 + \\phi\\right)\n",
    "                = A \\cdot \\cos\\left(\\phi\\right)\\$$\n",
    "\n",
    "or (omitting the intermediate steps):\n",
    "\n",
    "$$ x_0 = A \\cdot \\cos\\left(\\phi\\right)\\$$\n"
   ]
  },
  {
   "cell_type": "markdown",
   "id": "9614c050",
   "metadata": {},
   "source": [
    "Now, that is an equation with two unknowns -- $A$ and $\\phi$ (remember that $x_0$ is known -- it's the position the body has at $t=0$ -- how we've set up the experiment). So we need one more equation to solve this, and that will be given to us by the velocity. First, let's differentiate our equation for $x(t)$ to get the velocity:\n",
    "\n",
    "$$ v(t) \\equiv \\dot x(t) = \\frac{d}{dt}\\left\\{ A \\cdot \\cos\\left(\\sqrt{\\frac{k}{m}} \\cdot t + \\phi\\right) \\right\\}\n",
    "        = - A \\sqrt{\\frac{k}{m}} \\sin \\left(\\sqrt{\\frac{k}{m}} \\cdot t + \\phi\\right) $$\n",
    "        \n",
    "and now inserting $t=0$ we get:\n",
    "\n",
    "$$ v(t=0) = v_0 = - A \\sqrt{\\frac{k}{m}} \\sin \\left(\\phi\\right) $$"
   ]
  },
  {
   "cell_type": "markdown",
   "id": "9bc1d1df",
   "metadata": {},
   "source": [
    "Great! We now have two equations with two unknowns:\n",
    "\n",
    "$$ x_0 = A  \\cdot              \\cos \\left(\\phi\\right) $$\n",
    "$$ v_0 = -A \\sqrt{\\frac{k}{m}} \\sin \\left(\\phi\\right) $$\n",
    "\n",
    "this can be solved!\n",
    "\n",
    "To figure out what's $\\phi$, simply divide the bottom with the top equation. $A$ cancels out, and we're left with: \n",
    "\n",
    "$$ \\frac{v_0}{x_0} = -\\sqrt{\\frac{k}{m}} \\frac{\\sin \\left(\\phi\\right)}{\\cos \\left(\\phi\\right)} = -\\sqrt{\\frac{k}{m}} \\tan \\left(\\phi\\right) $$\n",
    "\n",
    "Solving for $\\phi$ we get:\n",
    "\n",
    "$$ \\phi = \\arctan \\left( - \\frac{v_0}{x_0} \\sqrt{\\frac{m}{k}} \\right) $$"
   ]
  },
  {
   "cell_type": "markdown",
   "id": "45546dfc",
   "metadata": {},
   "source": [
    "And now that we have $\\phi$ that we can plug that into the first equation and derive the expression for the amplitude, $A$. But first, we'll need to derive a useful trigonometric identity connecting $\\tan \\phi$ to $\\cos \\phi$. Starting with the well known:\n",
    "\n",
    "$$ \\cos^2 \\phi + \\sin^2 \\phi = 1 $$\n",
    "$$ 1           + \\frac{\\sin^2 \\phi}{\\cos^2 \\phi} = \\frac{1}{\\cos^2 \\phi} $$\n",
    "$$ 1 + \\tan^2 \\phi = \\frac{1}{\\cos^2 \\phi} $$\n",
    "$$ \\frac{1}{\\cos \\phi} = \\sqrt{1 + \\tan^2 \\phi} $$\n",
    "\n",
    "We then have:\n",
    "\n",
    "$$ \\frac{1}{\\cos \\phi} = \\sqrt{1 + \\tan^2 \\phi} = \\sqrt{1 + \\left(\\frac{v_0}{x_0}\\right)^2 \\frac{m}{k}} $$\n",
    "\n",
    "and from the first equation we can express $A$ as:\n",
    "\n",
    "$$ A = \\frac{x_0}{\\cos(\\phi)} = x_0 \\sqrt{1 + \\left(\\frac{v_0}{x_0}\\right)^2 \\frac{m}{k}} \n",
    "     = \\sqrt{x_0^2 + v_0^2 \\frac{m}{k}} \n",
    "$$\n",
    "\n",
    "Writing it all together, **we have the complete solution for the motion of a mass connected to a string, which at time $t=0$ is at a position $x_0$ and has the velocity $v_0$**:\n",
    "\n",
    "$$ x(t) = A \\cdot \\cos\\left(\\sqrt{\\frac{k}{m}} t + \\phi\\right) $$\n",
    "\n",
    "where\n",
    "\n",
    "$$ \\phi = \\arctan \\left( - \\frac{v_0}{x_0} \\sqrt{\\frac{m}{k}} \\right) $$\n",
    "\n",
    "$$ A    = \\sqrt{x_0^2 + v_0^2 \\frac{m}{k}}  $$\n"
   ]
  },
  {
   "cell_type": "markdown",
   "id": "22fecaad",
   "metadata": {},
   "source": [
    "Let's make sure we understand what all this means by working through a few examples. Say I have a spring with the spring constant $k = 5\\, {\\rm N/m}$ (the units of the spring constant are Newtons per meter -- in our case, for every meter that the spring is extended, it exerts a force of 5 Newtons). Say I have a mass of $2$kg attached to it. Say I start extend this mass to $x_0 = 3$m, and give it no velocity at $t=0$ (i.e., it's a case where you're holding the mass against the force of the spring, and then just let it go). Where will the mass be at any future time $t$?\n",
    "\n",
    "Let's compute $A$ and $\\phi$:\n",
    "\n",
    "$$ A = \\sqrt{3^2 + 0^2*2/5} = \\sqrt{3^2} = 3$$\n",
    "$$ \\phi = \\arctan\\left(- \\frac{0}{3} \\sqrt{\\frac{2}{5}} \\right) = \\arctan(0) = 0 $$\n",
    "\n",
    "and plugging into the solution:\n",
    "\n",
    "$$ x(t) = 3 \\cdot \\cos  \\sqrt{\\frac{5}{3}}t  $$\n",
    "\n",
    "As a quick sanity check, you can plug in $t=0$ and verify that the initial position of the body is $3$m. You can also differentiate this to obtain velocity, plug in $t=0$, and verify that the initial velocity is zero."
   ]
  },
  {
   "cell_type": "markdown",
   "id": "a440bc68",
   "metadata": {},
   "source": [
    "Exercise 1: Repeat the above, but now for a body that starts at $x_0 = 0$ and is kicked -- that is, given an initial velocity of (say) $v_0 = 3 {\\rm m/s}$. Use the same mass, spring constant, etc. as the problem above.\n",
    "\n",
    "Exercise 2: Now do this again, but have the body start at $x_0 = 3$m with a kick of $v_0 = 2 {\\rm m/s}$. What is the maximum distance this body will reach?"
   ]
  },
  {
   "cell_type": "markdown",
   "id": "28e2c3bc",
   "metadata": {},
   "source": [
    "## Summary"
   ]
  },
  {
   "cell_type": "markdown",
   "id": "b92295a3",
   "metadata": {},
   "source": [
    "Let's summarize what we've learned here (and understand why it's important):\n",
    "\n",
    "1. We've introduced the concept of differential equations -- equations that relate a function with its derivatives. Why is this important? Newton's 2nd law, $F = m \\ddot x$ connects the force and the second derivative of the position of an object. And the force the object experiences, usually *depends in some way on where the object is, i.e., it's position*. Therefore, $F$ is more completely written as $F(x)$ -- it's a function of $x$. What is that function depends on the problem. An example: the force a spring exerts on a body depends on how far that body is from the equilibrium point of that spring (how much the spring is stretched), or $F(x) = -k x$. Or the force the Sun exerts on a planet depends on how far from the Sun that planet is, or $F(x) = - \\frac{G M m}{x^2}$. Virtually every classical physics problem (and even more so for quantum mechanics) can be written in this way. And therefore, **nearly all of physics (and science, really...) is a story of figuring out what differential equation describes a particular problem, and then solving that differential equation**. (note: much of the same is true of other fields -- economics, finance, etc.)\n",
    "\n",
    "2. We've then learned how to solve differential equations. Well... sort of... We solved the harmonic oscillator problem by magically guessing a solution and proving it works. Unfortunately, this is how many D.E.s are solved -- you know what might work from experience (or tabulated solutions). There are more systematic ways to derive solutions, but we'll have to leave that for sophmore year of college (or maybe earlier, if you're interested :) ).\n",
    "\n",
    "3. Finally, we've shown how to connect the solution of the differential equation for the harmonic oscillator with the **initial conditions** of the oscillator. This part is incredibly important (pay attention here): **this allowed us to use our solution to predict the future, given the knowledge of the position and velocity of a body at the beginning of experiment.** (sidenote: This is the goal of most physical theories -- to predict what will happen in the future, given the present state. We verify (or, more accurately, falsify) theories by making such predictions, the checking whether the experiment is actually giving those results.)\n",
    "\n",
    "Where does this take us next? The problem we're working towards is computing the motion of a body (a comet) in the gravitational field of the Sun. More accurately, given where that comet is at some $t=0$ and how fast it's moving, we want an equation that will let us compute the future position $\\vec r(t)$ of that object at any future time $t$. With the above, we've developed the machinery to do just that."
   ]
  },
  {
   "cell_type": "markdown",
   "id": "cef5f235",
   "metadata": {},
   "source": [
    "More about that soon..."
   ]
  },
  {
   "cell_type": "markdown",
   "id": "5c537d3a",
   "metadata": {},
   "source": [
    "## Something to try on your own\n",
    "\n",
    "Before we dive into gravity (which is not entirely trivial), let's practice with another simpler system -- the [Damped Harmonic Oscillator](https://phys.libretexts.org/Bookshelves/Mathematical_Physics_and_Pedagogy/Complex_Methods_for_the_Sciences_(Chong)/05%3A_Complex_Oscillations/5.01%3A_The_Damped_Harmonic_Oscillator).\n",
    "\n",
    "This is a case just like our mass attached to the spring, but now imagine the spring is dragging it through air (or water). As the mass is moving, it will experience not just the force of the spring, but also the resistence of the fluid it's passing through -- the *drag*.\n",
    "\n",
    "Experimentally it's been found that this damping force is proportional to velocity and the mass of the object:\n",
    "\n",
    "$$ F_{\\rm damp} = - b \\cdot \\dot x $$\n",
    "\n",
    "so the differential equation describing this system is:\n",
    "\n",
    "$$ m \\ddot x = −b \\dot x −k x $$\n",
    "\n",
    "Try solving this on your own by looking at some of the following notes:\n",
    "\n",
    "* https://courses.lumenlearning.com/suny-osuniversityphysics/chapter/15-5-damped-oscillations/"
   ]
  },
  {
   "cell_type": "markdown",
   "id": "95cf48fc",
   "metadata": {},
   "source": [
    "## Even more fun"
   ]
  },
  {
   "cell_type": "markdown",
   "id": "0f3f3a80",
   "metadata": {},
   "source": [
    "Learn about [forced harmonic oscillators](http://math.colgate.edu/~wweckesser/math308Fall02/handouts/ForcedHarmonicOsc.pdf), when the mass is attached to a spring but then the whole system is also jiggled at some frequency.\n",
    "\n",
    "This *model* describes a *huge* number of physical systems. It is central to physics, mechanical, and electrical engineering. This is how radios tune into an FM/AM station (or WiFi receivers receive data from the WiFi access points), why [bridges can be brought down by wind](https://www.youtube.com/watch?v=j-zczJXSxnw), and also how light is absorbed and emmited by atoms."
   ]
  },
  {
   "cell_type": "markdown",
   "id": "e1be4206",
   "metadata": {},
   "source": [
    "## More literature to read\n",
    "\n",
    "* [Solving the Simple Harmonic Oscillator](http://scipp.ucsc.edu/~haber/ph5B/sho09.pdf)\n",
    "* [Another damped Harmonic Oscillator](https://beltoforion.de/en/harmonic_oscillator/)\n",
    "* [One more damped H.O.](https://physicscourses.colorado.edu/phys2210/phys2210_fa20/lecture/lec36-damped-oscillator/)\n"
   ]
  }
 ],
 "metadata": {
  "kernelspec": {
   "display_name": "Python 3",
   "language": "python",
   "name": "python3"
  },
  "language_info": {
   "codemirror_mode": {
    "name": "ipython",
    "version": 3
   },
   "file_extension": ".py",
   "mimetype": "text/x-python",
   "name": "python",
   "nbconvert_exporter": "python",
   "pygments_lexer": "ipython3",
   "version": "3.7.6"
  }
 },
 "nbformat": 4,
 "nbformat_minor": 5
}
